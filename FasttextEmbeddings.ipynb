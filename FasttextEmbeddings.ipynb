{
 "cells": [
  {
   "cell_type": "markdown",
   "metadata": {},
   "source": [
    "Fuentes:\n",
    "http://www.offconvex.org/2018/06/17/textembeddings/\n",
    "https://github.com/dataiku/dataiku-contrib/blob/master/sentence-embedding/python-lib/sentence_embedding_utils.py\n",
    "http://nadbordrozd.github.io/blog/2016/05/20/text-classification-with-word2vec/"
   ]
  },
  {
   "cell_type": "code",
   "execution_count": 18,
   "metadata": {},
   "outputs": [],
   "source": [
    "import pandas as pd\n",
    "from sklearn.model_selection import train_test_split\n",
    "from sklearn.metrics import balanced_accuracy_score\n",
    "import numpy as np\n",
    "from collections import defaultdict\n",
    "from sklearn.feature_extraction.text import TfidfVectorizer, CountVectorizer\n",
    "from sklearn.naive_bayes import MultinomialNB\n",
    "from sklearn.linear_model import LogisticRegression, SGDClassifier\n",
    "import xgboost\n",
    "from gensim.models import KeyedVectors\n",
    "#%load_ext autoreload\n",
    "#%autoreload 0"
   ]
  },
  {
   "cell_type": "code",
   "execution_count": 2,
   "metadata": {},
   "outputs": [],
   "source": [
    "train = pd.read_csv('../data/train_reliable_norm.csv',header=None,names=['title'])\n",
    "val = pd.read_csv('../data/val_reliable_norm.csv',header=None,names=['title'])\n",
    "test = pd.read_csv('../data/test_full_norm.csv',header=None,names=['title'])"
   ]
  },
  {
   "cell_type": "code",
   "execution_count": 3,
   "metadata": {},
   "outputs": [],
   "source": [
    "train['category'] = train['title'].apply(lambda x: ''.join(x.split()[0][9:]))\n",
    "train['title'] = train['title'].apply(lambda x: ' '.join(x.split()[1:]))"
   ]
  },
  {
   "cell_type": "code",
   "execution_count": 4,
   "metadata": {},
   "outputs": [],
   "source": [
    "val['category'] = val['title'].apply(lambda x: ''.join(x.split()[0][9:]))\n",
    "val['title'] = val['title'].apply(lambda x: ' '.join(x.split()[1:]))"
   ]
  },
  {
   "cell_type": "code",
   "execution_count": 13,
   "metadata": {},
   "outputs": [],
   "source": [
    "y_train = train['title']\n",
    "y_val = val['category']"
   ]
  },
  {
   "cell_type": "code",
   "execution_count": 5,
   "metadata": {},
   "outputs": [
    {
     "name": "stderr",
     "output_type": "stream",
     "text": [
      "/home/franco_camporeale/miniconda3/envs/meli/lib/python3.7/site-packages/smart_open/smart_open_lib.py:398: UserWarning: This function is deprecated, use smart_open.open instead. See the migration notes for details: https://github.com/RaRe-Technologies/smart_open/blob/master/README.rst#migrating-to-the-new-open-function\n",
      "  'See the migration notes for details: %s' % _MIGRATION_NOTES_URL\n"
     ]
    }
   ],
   "source": [
    "model = KeyedVectors.load_word2vec_format('../models/model_full_100.vec')"
   ]
  },
  {
   "cell_type": "code",
   "execution_count": 1,
   "metadata": {},
   "outputs": [],
   "source": [
    "class MeanEmbeddingVectorizer(object):\n",
    "    def __init__(self, word2vec):\n",
    "        self.word2vec = word2vec\n",
    "        if len(word2vec)>0:\n",
    "            self.dim=len(word2vec[next(iter(glove_small))])\n",
    "        else:\n",
    "            self.dim=0\n",
    "            \n",
    "    def fit(self, X, y):\n",
    "        return self \n",
    "\n",
    "    def transform(self, X):\n",
    "        return np.array([\n",
    "            np.mean([self.word2vec[w] for w in words if w in self.word2vec] \n",
    "                    or [np.zeros(self.dim)], axis=0)\n",
    "            for words in X\n",
    "        ])\n",
    "\n",
    "    \n",
    "# and a tf-idf version of the same\n",
    "class TfidfEmbeddingVectorizer(object):\n",
    "    def __init__(self, word2vec):\n",
    "        self.word2vec = word2vec\n",
    "        self.word2weight = None\n",
    "        if len(word2vec)>0:\n",
    "            self.dim=len(word2vec[next(iter(glove_small))])\n",
    "        else:\n",
    "            self.dim=0\n",
    "        \n",
    "    def fit(self, X, y):\n",
    "        tfidf = TfidfVectorizer(analyzer=lambda x: x)\n",
    "        tfidf.fit(X)\n",
    "        # if a word was never seen - it must be at least as infrequent\n",
    "        # as any of the known words - so the default idf is the max of \n",
    "        # known idf's\n",
    "        max_idf = max(tfidf.idf_)\n",
    "        self.word2weight = defaultdict(\n",
    "            lambda: max_idf, \n",
    "            [(w, tfidf.idf_[i]) for w, i in tfidf.vocabulary_.items()])\n",
    "    \n",
    "        return self\n",
    "    \n",
    "    def transform(self, X):\n",
    "        return np.array([\n",
    "                np.mean([self.word2vec[w] * self.word2weight[w]\n",
    "                         for w in words if w in self.word2vec] or\n",
    "                        [np.zeros(self.dim)], axis=0)\n",
    "                for words in X\n",
    "            ])"
   ]
  },
  {
   "cell_type": "code",
   "execution_count": 6,
   "metadata": {},
   "outputs": [],
   "source": [
    "from sentence_embedding import EmbeddingModel, preprocess_and_compute_sentence_embedding"
   ]
  },
  {
   "cell_type": "code",
   "execution_count": 7,
   "metadata": {},
   "outputs": [
    {
     "name": "stderr",
     "output_type": "stream",
     "text": [
      "[SENTENCE EMBEDDING] 2019-09-25 13:40:46,530 - root - INFO - Loaded 100000 word embeddings\n",
      "[SENTENCE EMBEDDING] 2019-09-25 13:41:07,074 - root - INFO - Loaded 200000 word embeddings\n",
      "[SENTENCE EMBEDDING] 2019-09-25 13:41:27,196 - root - INFO - Loaded 300000 word embeddings\n",
      "[SENTENCE EMBEDDING] 2019-09-25 13:41:47,686 - root - INFO - Loaded 400000 word embeddings\n",
      "[SENTENCE EMBEDDING] 2019-09-25 13:42:08,288 - root - INFO - Loaded 500000 word embeddings\n",
      "[SENTENCE EMBEDDING] 2019-09-25 13:42:28,764 - root - INFO - Loaded 600000 word embeddings\n",
      "[SENTENCE EMBEDDING] 2019-09-25 13:42:47,023 - root - INFO - Successfully loaded 689041 word embeddings!\n"
     ]
    }
   ],
   "source": [
    "model = EmbeddingModel('/home/franco_camporeale/models/emb', False)"
   ]
  },
  {
   "cell_type": "code",
   "execution_count": 8,
   "metadata": {},
   "outputs": [],
   "source": [
    "texts = train[\"title\"].to_list()"
   ]
  },
  {
   "cell_type": "code",
   "execution_count": 9,
   "metadata": {},
   "outputs": [
    {
     "name": "stderr",
     "output_type": "stream",
     "text": [
      "[SENTENCE EMBEDDING] 2019-09-25 13:44:57,136 - root - INFO - Computing weighted average embeddings...\n",
      "/home/franco_camporeale/miniconda3/envs/meli/lib/python3.7/site-packages/numpy/core/fromnumeric.py:3118: RuntimeWarning: Mean of empty slice.\n",
      "  out=out, **kwargs)\n",
      "/home/franco_camporeale/miniconda3/envs/meli/lib/python3.7/site-packages/numpy/core/_methods.py:85: RuntimeWarning: invalid value encountered in double_scalars\n",
      "  ret = ret.dtype.type(ret / rcount)\n",
      "[SENTENCE EMBEDDING] 2019-09-25 13:45:20,646 - root - INFO - Removing vectors first principal component...\n",
      "[SENTENCE EMBEDDING] 2019-09-25 13:45:22,927 - root - INFO - (499997, 300)\n"
     ]
    },
    {
     "name": "stdout",
     "output_type": "stream",
     "text": [
      "CPU times: user 41.9 s, sys: 8.17 s, total: 50.1 s\n",
      "Wall time: 36.1 s\n"
     ]
    }
   ],
   "source": [
    "%time result = preprocess_and_compute_sentence_embedding(texts[:500000],model, 'SIF', 0.1, 1)"
   ]
  },
  {
   "cell_type": "code",
   "execution_count": 10,
   "metadata": {},
   "outputs": [
    {
     "name": "stdout",
     "output_type": "stream",
     "text": [
      "74828\n",
      "212444\n",
      "300903\n"
     ]
    }
   ],
   "source": [
    "for i, r in enumerate(result):\n",
    "    if isinstance(r, float):\n",
    "        print(i)"
   ]
  },
  {
   "cell_type": "code",
   "execution_count": 11,
   "metadata": {},
   "outputs": [],
   "source": [
    "# hay 3 sentencias que volvieron con un unico valor float 0 en vez de un array largo 300\n",
    "for i, r in enumerate(result):\n",
    "    if isinstance(r, float):\n",
    "        result[i] = np.zeros(300)"
   ]
  },
  {
   "cell_type": "code",
   "execution_count": 14,
   "metadata": {},
   "outputs": [],
   "source": [
    "y = y_train[:500000]"
   ]
  },
  {
   "cell_type": "code",
   "execution_count": 19,
   "metadata": {},
   "outputs": [],
   "source": [
    "lr = SGDClassifier(loss='log', n_jobs=8)"
   ]
  },
  {
   "cell_type": "code",
   "execution_count": null,
   "metadata": {},
   "outputs": [],
   "source": [
    "%time lr.fit(result, y)"
   ]
  },
  {
   "cell_type": "code",
   "execution_count": null,
   "metadata": {},
   "outputs": [],
   "source": [
    "from joblib import load, dump\n",
    "dump(lr, '../models/lr_first_test')\n"
   ]
  },
  {
   "cell_type": "code",
   "execution_count": null,
   "metadata": {},
   "outputs": [],
   "source": [
    "texts_val = val['title'].to_list()\n",
    "result_validation = preprocess_and_compute_sentence_embedding(texts_val,model, 'SIF', 0.1, 1)"
   ]
  },
  {
   "cell_type": "code",
   "execution_count": 54,
   "metadata": {},
   "outputs": [],
   "source": [
    "val_pred = lr.predict(x_val)"
   ]
  },
  {
   "cell_type": "code",
   "execution_count": 78,
   "metadata": {},
   "outputs": [],
   "source": [
    "#print(\"Balanced Accuracy Score: %.2f\" % balanced_accuracy_score(y_train, yTrainPredict))\n",
    "print(\"Balanced Accuracy Score: %.2f\" % balanced_accuracy_score(y_val, yPrediction))"
   ]
  },
  {
   "cell_type": "code",
   "execution_count": 74,
   "metadata": {},
   "outputs": [
    {
     "data": {
      "text/plain": [
       "(300,)"
      ]
     },
     "execution_count": 74,
     "metadata": {},
     "output_type": "execute_result"
    }
   ],
   "source": [
    "result[0].shape"
   ]
  },
  {
   "cell_type": "code",
   "execution_count": null,
   "metadata": {},
   "outputs": [],
   "source": []
  }
 ],
 "metadata": {
  "kernelspec": {
   "display_name": "Python 3",
   "language": "python",
   "name": "python3"
  },
  "language_info": {
   "codemirror_mode": {
    "name": "ipython",
    "version": 3
   },
   "file_extension": ".py",
   "mimetype": "text/x-python",
   "name": "python",
   "nbconvert_exporter": "python",
   "pygments_lexer": "ipython3",
   "version": "3.7.4"
  }
 },
 "nbformat": 4,
 "nbformat_minor": 4
}
