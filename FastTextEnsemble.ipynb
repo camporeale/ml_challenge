{
 "cells": [
  {
   "cell_type": "code",
   "execution_count": 1,
   "metadata": {},
   "outputs": [],
   "source": [
    "import pandas as pd\n",
    "from sklearn.model_selection import train_test_split\n",
    "from sklearn.metrics import balanced_accuracy_score\n",
    "from multiprocessing import  Pool\n",
    "import numpy as np\n",
    "import fasttext\n",
    "import csv\n",
    "import unicodedata\n",
    "from collections import defaultdict\n",
    "from joblib import Parallel, delayed\n",
    "%load_ext autoreload\n",
    "%autoreload 2\n",
    "from sklearn.naive_bayes import MultinomialNB\n",
    "from sklearn.linear_model import LogisticRegression,SGDClassifier\n",
    "from sklearn.ensemble import RandomForestClassifier\n",
    "from xgboost import XGBClassifier\n",
    "import utils\n",
    "from utils import models_for_predict, normalized_files\n"
   ]
  },
  {
   "cell_type": "code",
   "execution_count": null,
   "metadata": {},
   "outputs": [],
   "source": [
    "## Resolviendo falta de language mapping"
   ]
  },
  {
   "cell_type": "code",
   "execution_count": 16,
   "metadata": {},
   "outputs": [],
   "source": [
    "train = pd.read_csv(\"../data/train.csv\")\n",
    "val_full_norm = pd.read_csv(\"../data/val_full_norm.csv\",header=None,names=['title'])"
   ]
  },
  {
   "cell_type": "code",
   "execution_count": 17,
   "metadata": {},
   "outputs": [],
   "source": [
    "val_full_norm['title'] = val_full_norm['title'].apply(lambda x: ' '.join(x.split()[1:]))"
   ]
  },
  {
   "cell_type": "code",
   "execution_count": 18,
   "metadata": {},
   "outputs": [],
   "source": [
    "X_train, X_val, y_train, y_val = train_test_split(train[\"language\"], train[\"category\"], test_size=0.075, random_state=42, stratify=train[\"category\"])"
   ]
  },
  {
   "cell_type": "code",
   "execution_count": null,
   "metadata": {},
   "outputs": [],
   "source": [
    "pd.concat([val_full_norm[\"title\"], pd.Series(X_val.values)], axis=1, ignore_index=True).sample(50)"
   ]
  },
  {
   "cell_type": "code",
   "execution_count": 19,
   "metadata": {},
   "outputs": [],
   "source": [
    "X_val.to_csv(\"../data/val_language_mapping.csv\", header=False, index=False)"
   ]
  },
  {
   "cell_type": "code",
   "execution_count": null,
   "metadata": {},
   "outputs": [],
   "source": [
    "## Fin resolviendo falta de language mapping"
   ]
  },
  {
   "cell_type": "markdown",
   "metadata": {},
   "source": [
    "## Evaluando resultados en validation set"
   ]
  },
  {
   "cell_type": "code",
   "execution_count": 11,
   "metadata": {},
   "outputs": [],
   "source": [
    "def run_model_on_val(model_file):\n",
    "    val_data = pd.read_csv(normalized_files[\"validation\"],header=None,names=['title'])\n",
    "    val_data['title'] = val_data['title'].apply(lambda x: ' '.join(x.split()[1:]))\n",
    "    \n",
    "    print(\"Loading model file \", model_file, '...')\n",
    "    if isinstance(model_file, dict):\n",
    "        # Here we predict combining models for each language\n",
    "        predictions = []\n",
    "        val_data = pd.read_csv('../data/val_full_norm.csv',header=None,names=['title'])\n",
    "        language_mapping = pd.read_csv('../data/val_language_mapping.csv',names=[\"language\"])\n",
    "        val_language = pd.concat([val_data,language_mapping['language']],axis=1)\n",
    "        model_sp = fasttext.load_model(model_file[\"spanish\"])\n",
    "        model_pt = fasttext.load_model(model_file[\"portuguese\"])\n",
    "        print(\"Running predict on test set...\")\n",
    "        for index, row in val_language.iterrows():\n",
    "            if row[\"language\"] == 'spanish':\n",
    "                category = model_sp.predict(row[\"title\"])[0][0]\n",
    "            if row[\"language\"] == 'portuguese':\n",
    "                category = model_pt.predict(row[\"title\"])[0][0]\n",
    "            predictions.append(category[9:])\n",
    "        print(\"Predict finished for model bilingual\")\n",
    "        result = pd.Series(predictions, name=\"bilingual\")\n",
    "    else:            \n",
    "        model = fasttext.load_model(model_file)\n",
    "        print(\"Running predict on test set...\")\n",
    "        predictions = model.predict(val_data[\"title\"].values.tolist())\n",
    "        print(\"Predict finished for model \", model_file)\n",
    "        result = pd.Series([x[0][9:] for x in predictions[0]], name=model_file[10:])\n",
    "    return result\n",
    "\n",
    "def count_votes(results_df):\n",
    "    voted_results = {\"id\": [], \"category\": []}\n",
    "    for index, row in results_df.iloc[:,1:].iterrows():\n",
    "        voted_results[\"id\"].append(index)\n",
    "        voted_results[\"category\"].append(row.value_counts().index[0])\n",
    "\n",
    "    voted_results_df = pd.DataFrame.from_dict(voted_results)\n",
    "    return voted_results_df\n",
    "\n",
    "def parallel_val_predict():\n",
    "    results = Parallel(n_jobs=8)(delayed(run_model_on_val)(model) for name, model in models_for_predict.items())\n",
    "    base_classifiers_results = pd.concat([x for x in results], axis=1)\n",
    "    return base_classifiers_results\n",
    "\n"
   ]
  },
  {
   "cell_type": "code",
   "execution_count": null,
   "metadata": {},
   "outputs": [],
   "source": []
  },
  {
   "cell_type": "code",
   "execution_count": 12,
   "metadata": {},
   "outputs": [
    {
     "name": "stdout",
     "output_type": "stream",
     "text": [
      "CPU times: user 2.33 s, sys: 1.2 s, total: 3.54 s\n",
      "Wall time: 27min 56s\n"
     ]
    }
   ],
   "source": [
    "%time base_classifiers_results = parallel_val_predict()"
   ]
  },
  {
   "cell_type": "code",
   "execution_count": 13,
   "metadata": {},
   "outputs": [
    {
     "data": {
      "text/html": [
       "<div>\n",
       "<style scoped>\n",
       "    .dataframe tbody tr th:only-of-type {\n",
       "        vertical-align: middle;\n",
       "    }\n",
       "\n",
       "    .dataframe tbody tr th {\n",
       "        vertical-align: top;\n",
       "    }\n",
       "\n",
       "    .dataframe thead th {\n",
       "        text-align: right;\n",
       "    }\n",
       "</style>\n",
       "<table border=\"1\" class=\"dataframe\">\n",
       "  <thead>\n",
       "    <tr style=\"text-align: right;\">\n",
       "      <th></th>\n",
       "      <th>co_camporeale/models/model_full_300.bin</th>\n",
       "      <th>co_camporeale/models/model_full_100.bin</th>\n",
       "      <th>odels/model_reliable_2gram</th>\n",
       "      <th>odels/model_reliable_3gram</th>\n",
       "      <th>bilingual</th>\n",
       "      <th>bilingual</th>\n",
       "      <th>bilingual</th>\n",
       "    </tr>\n",
       "  </thead>\n",
       "  <tbody>\n",
       "    <tr>\n",
       "      <td>0</td>\n",
       "      <td>CAR_SCANNERS</td>\n",
       "      <td>CAR_SCANNERS</td>\n",
       "      <td>CAR_SCANNERS</td>\n",
       "      <td>CAR_SCANNERS</td>\n",
       "      <td>CAR_SCANNERS</td>\n",
       "      <td>CAR_SCANNERS</td>\n",
       "      <td>CAR_SCANNERS</td>\n",
       "    </tr>\n",
       "    <tr>\n",
       "      <td>1</td>\n",
       "      <td>NOTEBOOK_CASES</td>\n",
       "      <td>NOTEBOOK_CASES</td>\n",
       "      <td>COMICS</td>\n",
       "      <td>NOTEBOOK_CASES</td>\n",
       "      <td>CELLPHONE_COVERS</td>\n",
       "      <td>CELLPHONE_COVERS</td>\n",
       "      <td>CELLPHONE_COVERS</td>\n",
       "    </tr>\n",
       "    <tr>\n",
       "      <td>2</td>\n",
       "      <td>KEY_RACKS</td>\n",
       "      <td>KEY_RACKS</td>\n",
       "      <td>KEYCHAINS</td>\n",
       "      <td>KEY_RACKS</td>\n",
       "      <td>KEY_RACKS</td>\n",
       "      <td>KEY_RACKS</td>\n",
       "      <td>KEY_RACKS</td>\n",
       "    </tr>\n",
       "    <tr>\n",
       "      <td>3</td>\n",
       "      <td>AUTOMOTIVE_EMBLEMS</td>\n",
       "      <td>AUTOMOTIVE_EMBLEMS</td>\n",
       "      <td>AUTOMOTIVE_TRUNK_LIDS</td>\n",
       "      <td>AUTOMOTIVE_TRUNK_LIDS</td>\n",
       "      <td>AUTOMOTIVE_EMBLEMS</td>\n",
       "      <td>AUTOMOTIVE_EMBLEMS</td>\n",
       "      <td>AUTOMOTIVE_EMBLEMS</td>\n",
       "    </tr>\n",
       "    <tr>\n",
       "      <td>4</td>\n",
       "      <td>WIRELESS_FM_TRANSMITTERS</td>\n",
       "      <td>WIRELESS_FM_TRANSMITTERS</td>\n",
       "      <td>WIRELESS_FM_TRANSMITTERS</td>\n",
       "      <td>WIRELESS_FM_TRANSMITTERS</td>\n",
       "      <td>WIRELESS_FM_TRANSMITTERS</td>\n",
       "      <td>WIRELESS_FM_TRANSMITTERS</td>\n",
       "      <td>WIRELESS_FM_TRANSMITTERS</td>\n",
       "    </tr>\n",
       "    <tr>\n",
       "      <td>...</td>\n",
       "      <td>...</td>\n",
       "      <td>...</td>\n",
       "      <td>...</td>\n",
       "      <td>...</td>\n",
       "      <td>...</td>\n",
       "      <td>...</td>\n",
       "      <td>...</td>\n",
       "    </tr>\n",
       "    <tr>\n",
       "      <td>1499995</td>\n",
       "      <td>AUTOMOTIVE_EMBLEMS</td>\n",
       "      <td>BEDLINERS</td>\n",
       "      <td>BUMPER_IMPACT_ABSORBERS</td>\n",
       "      <td>BUMPER_IMPACT_ABSORBERS</td>\n",
       "      <td>AUTOMOTIVE_EMBLEMS</td>\n",
       "      <td>AUTOMOTIVE_EMBLEMS</td>\n",
       "      <td>AUTOMOTIVE_EMBLEMS</td>\n",
       "    </tr>\n",
       "    <tr>\n",
       "      <td>1499996</td>\n",
       "      <td>SOUND_CONSOLES_AND_DJ_MIXERS</td>\n",
       "      <td>SOUND_CONSOLES_AND_DJ_MIXERS</td>\n",
       "      <td>SOUND_CONSOLES_AND_DJ_MIXERS</td>\n",
       "      <td>SOUND_CONSOLES_AND_DJ_MIXERS</td>\n",
       "      <td>SOUND_CONSOLES_AND_DJ_MIXERS</td>\n",
       "      <td>SOUND_CONSOLES_AND_DJ_MIXERS</td>\n",
       "      <td>SOUND_CONSOLES_AND_DJ_MIXERS</td>\n",
       "    </tr>\n",
       "    <tr>\n",
       "      <td>1499997</td>\n",
       "      <td>TOOTHPASTES</td>\n",
       "      <td>TOOTHPASTES</td>\n",
       "      <td>TOOTHPASTES</td>\n",
       "      <td>TOOTHPASTES</td>\n",
       "      <td>TOOTHPASTES</td>\n",
       "      <td>TOOTHPASTES</td>\n",
       "      <td>TOOTHPASTES</td>\n",
       "    </tr>\n",
       "    <tr>\n",
       "      <td>1499998</td>\n",
       "      <td>EYESHADOWS</td>\n",
       "      <td>EYESHADOWS</td>\n",
       "      <td>EYESHADOWS</td>\n",
       "      <td>EYESHADOWS</td>\n",
       "      <td>EYESHADOWS</td>\n",
       "      <td>EYESHADOWS</td>\n",
       "      <td>EYESHADOWS</td>\n",
       "    </tr>\n",
       "    <tr>\n",
       "      <td>1499999</td>\n",
       "      <td>PILATES_BALLS</td>\n",
       "      <td>PILATES_BALLS</td>\n",
       "      <td>PILATES_BALLS</td>\n",
       "      <td>PILATES_BALLS</td>\n",
       "      <td>PILATES_BALLS</td>\n",
       "      <td>PILATES_BALLS</td>\n",
       "      <td>PILATES_BALLS</td>\n",
       "    </tr>\n",
       "  </tbody>\n",
       "</table>\n",
       "<p>1500000 rows × 7 columns</p>\n",
       "</div>"
      ],
      "text/plain": [
       "        co_camporeale/models/model_full_300.bin  \\\n",
       "0                                  CAR_SCANNERS   \n",
       "1                                NOTEBOOK_CASES   \n",
       "2                                     KEY_RACKS   \n",
       "3                            AUTOMOTIVE_EMBLEMS   \n",
       "4                      WIRELESS_FM_TRANSMITTERS   \n",
       "...                                         ...   \n",
       "1499995                      AUTOMOTIVE_EMBLEMS   \n",
       "1499996            SOUND_CONSOLES_AND_DJ_MIXERS   \n",
       "1499997                             TOOTHPASTES   \n",
       "1499998                              EYESHADOWS   \n",
       "1499999                           PILATES_BALLS   \n",
       "\n",
       "        co_camporeale/models/model_full_100.bin    odels/model_reliable_2gram  \\\n",
       "0                                  CAR_SCANNERS                  CAR_SCANNERS   \n",
       "1                                NOTEBOOK_CASES                        COMICS   \n",
       "2                                     KEY_RACKS                     KEYCHAINS   \n",
       "3                            AUTOMOTIVE_EMBLEMS         AUTOMOTIVE_TRUNK_LIDS   \n",
       "4                      WIRELESS_FM_TRANSMITTERS      WIRELESS_FM_TRANSMITTERS   \n",
       "...                                         ...                           ...   \n",
       "1499995                               BEDLINERS       BUMPER_IMPACT_ABSORBERS   \n",
       "1499996            SOUND_CONSOLES_AND_DJ_MIXERS  SOUND_CONSOLES_AND_DJ_MIXERS   \n",
       "1499997                             TOOTHPASTES                   TOOTHPASTES   \n",
       "1499998                              EYESHADOWS                    EYESHADOWS   \n",
       "1499999                           PILATES_BALLS                 PILATES_BALLS   \n",
       "\n",
       "           odels/model_reliable_3gram                     bilingual  \\\n",
       "0                        CAR_SCANNERS                  CAR_SCANNERS   \n",
       "1                      NOTEBOOK_CASES              CELLPHONE_COVERS   \n",
       "2                           KEY_RACKS                     KEY_RACKS   \n",
       "3               AUTOMOTIVE_TRUNK_LIDS            AUTOMOTIVE_EMBLEMS   \n",
       "4            WIRELESS_FM_TRANSMITTERS      WIRELESS_FM_TRANSMITTERS   \n",
       "...                               ...                           ...   \n",
       "1499995       BUMPER_IMPACT_ABSORBERS            AUTOMOTIVE_EMBLEMS   \n",
       "1499996  SOUND_CONSOLES_AND_DJ_MIXERS  SOUND_CONSOLES_AND_DJ_MIXERS   \n",
       "1499997                   TOOTHPASTES                   TOOTHPASTES   \n",
       "1499998                    EYESHADOWS                    EYESHADOWS   \n",
       "1499999                 PILATES_BALLS                 PILATES_BALLS   \n",
       "\n",
       "                            bilingual                     bilingual  \n",
       "0                        CAR_SCANNERS                  CAR_SCANNERS  \n",
       "1                    CELLPHONE_COVERS              CELLPHONE_COVERS  \n",
       "2                           KEY_RACKS                     KEY_RACKS  \n",
       "3                  AUTOMOTIVE_EMBLEMS            AUTOMOTIVE_EMBLEMS  \n",
       "4            WIRELESS_FM_TRANSMITTERS      WIRELESS_FM_TRANSMITTERS  \n",
       "...                               ...                           ...  \n",
       "1499995            AUTOMOTIVE_EMBLEMS            AUTOMOTIVE_EMBLEMS  \n",
       "1499996  SOUND_CONSOLES_AND_DJ_MIXERS  SOUND_CONSOLES_AND_DJ_MIXERS  \n",
       "1499997                   TOOTHPASTES                   TOOTHPASTES  \n",
       "1499998                    EYESHADOWS                    EYESHADOWS  \n",
       "1499999                 PILATES_BALLS                 PILATES_BALLS  \n",
       "\n",
       "[1500000 rows x 7 columns]"
      ]
     },
     "execution_count": 13,
     "metadata": {},
     "output_type": "execute_result"
    }
   ],
   "source": [
    "base_classifiers_results"
   ]
  },
  {
   "cell_type": "markdown",
   "metadata": {},
   "source": [
    "## Entrenando"
   ]
  },
  {
   "cell_type": "code",
   "execution_count": 14,
   "metadata": {},
   "outputs": [],
   "source": [
    "base_classifiers_results.columns = [\"model_full_300\", \"model_full_100\", \"model_reliable_2gram\", \"model_reliable_3gram\", \"bilingual1\"\n",
    "                                   , \"bilingual2\", \"bilingual3\"]"
   ]
  },
  {
   "cell_type": "code",
   "execution_count": 19,
   "metadata": {},
   "outputs": [],
   "source": [
    "full_results = pd.concat([base_classifiers_results,pd.Series(y_val.values)], axis=1)"
   ]
  },
  {
   "cell_type": "code",
   "execution_count": null,
   "metadata": {},
   "outputs": [],
   "source": []
  },
  {
   "cell_type": "code",
   "execution_count": 21,
   "metadata": {},
   "outputs": [],
   "source": [
    "X_train, X_val, y_train, y_val = train_test_split(full_results[['model_full_300','model_full_100','model_reliable_2gram','model_reliable_3gram',\n",
    "                                                                'bilingual1','bilingual2','bilingual3']]\n",
    "                                                  ,full_results[0], test_size=0.25, random_state=42, stratify=full_results[0])"
   ]
  },
  {
   "cell_type": "code",
   "execution_count": null,
   "metadata": {},
   "outputs": [],
   "source": [
    "y_train"
   ]
  },
  {
   "cell_type": "code",
   "execution_count": 106,
   "metadata": {},
   "outputs": [],
   "source": [
    "X_train[\"ft_predict\"] = X_train[\"model_full_300\"] + ' ' + X_train[\"model_full_100\"] + ' ' + X_train[\"bilingual1\"] + ' ' + X_train[\"bilingual2\"] +' '+ X_train[\"bilingual3\"] "
   ]
  },
  {
   "cell_type": "code",
   "execution_count": 107,
   "metadata": {},
   "outputs": [],
   "source": [
    "ft_ensemble_train = pd.concat([X_train[\"ft_predict\"], y_train],axis=1)"
   ]
  },
  {
   "cell_type": "code",
   "execution_count": 108,
   "metadata": {},
   "outputs": [],
   "source": [
    "ft_ensemble_train[0] = ft_ensemble_train[0].apply(lambda x: '__label__'+ x)"
   ]
  },
  {
   "cell_type": "code",
   "execution_count": null,
   "metadata": {},
   "outputs": [],
   "source": [
    "ft_ensemble_train"
   ]
  },
  {
   "cell_type": "code",
   "execution_count": 110,
   "metadata": {},
   "outputs": [],
   "source": [
    "ft_ensemble_train[\"title\"] = ft_ensemble_train[0] + ' ' + ft_ensemble_train[\"ft_predict\"]"
   ]
  },
  {
   "cell_type": "code",
   "execution_count": 111,
   "metadata": {},
   "outputs": [],
   "source": [
    "ft_ensemble_train[\"title\"].to_csv(\"../data/ensemble/val_train.csv\",index=False, header=False) "
   ]
  },
  {
   "cell_type": "code",
   "execution_count": null,
   "metadata": {},
   "outputs": [],
   "source": []
  },
  {
   "cell_type": "code",
   "execution_count": 112,
   "metadata": {},
   "outputs": [],
   "source": [
    "X_val[\"ft_predict\"] = X_val[\"model_full_300\"] + ' ' + X_val[\"model_full_100\"]  + ' ' + X_val[\"bilingual1\"] + ' ' + X_val[\"bilingual2\"] +' '+ X_val[\"bilingual3\"] "
   ]
  },
  {
   "cell_type": "code",
   "execution_count": 113,
   "metadata": {},
   "outputs": [],
   "source": [
    "ft_ensemble_test = pd.concat([X_val[\"ft_predict\"], y_val],axis=1)"
   ]
  },
  {
   "cell_type": "code",
   "execution_count": 114,
   "metadata": {},
   "outputs": [],
   "source": [
    "ft_ensemble_test[0] = ft_ensemble_test[0].apply(lambda x: '__label__'+ x)"
   ]
  },
  {
   "cell_type": "code",
   "execution_count": 115,
   "metadata": {},
   "outputs": [],
   "source": [
    "ft_ensemble_test[\"title\"] = ft_ensemble_test[0] + ' ' + ft_ensemble_test[\"ft_predict\"]"
   ]
  },
  {
   "cell_type": "code",
   "execution_count": 116,
   "metadata": {},
   "outputs": [],
   "source": [
    "ft_ensemble_test[\"title\"].to_csv(\"../data/ensemble/val_test.csv\",index=False, header=False) "
   ]
  },
  {
   "cell_type": "code",
   "execution_count": null,
   "metadata": {},
   "outputs": [],
   "source": [
    "ft_ensemble_test"
   ]
  },
  {
   "cell_type": "code",
   "execution_count": null,
   "metadata": {},
   "outputs": [],
   "source": [
    "%time model = fasttext.train_supervised(input=ft_ensemble_train[\"title\"].values.tolist(), lr=0.5, wordNgrams=3, thread=8)"
   ]
  },
  {
   "cell_type": "code",
   "execution_count": 51,
   "metadata": {},
   "outputs": [
    {
     "name": "stderr",
     "output_type": "stream",
     "text": [
      "\n"
     ]
    }
   ],
   "source": [
    "model = fasttext.load_model(\"../models/ensemble/stacked_ft1.bin\")"
   ]
  },
  {
   "cell_type": "code",
   "execution_count": 113,
   "metadata": {},
   "outputs": [],
   "source": [
    "test_data = pd.read_csv('../data/test_full_norm.csv',names=['tokens'])"
   ]
  },
  {
   "cell_type": "code",
   "execution_count": 114,
   "metadata": {},
   "outputs": [
    {
     "name": "stdout",
     "output_type": "stream",
     "text": [
      "CPU times: user 1min 8s, sys: 458 ms, total: 1min 9s\n",
      "Wall time: 1min 17s\n"
     ]
    }
   ],
   "source": [
    "%time predictions = model.predict(test_data[\"tokens\"].values.tolist())"
   ]
  },
  {
   "cell_type": "code",
   "execution_count": 115,
   "metadata": {},
   "outputs": [],
   "source": [
    "submission = pd.Series([x[0][9:] for x in predictions[0]])"
   ]
  },
  {
   "cell_type": "code",
   "execution_count": null,
   "metadata": {},
   "outputs": [],
   "source": [
    "submission"
   ]
  },
  {
   "cell_type": "code",
   "execution_count": null,
   "metadata": {},
   "outputs": [],
   "source": []
  },
  {
   "cell_type": "code",
   "execution_count": null,
   "metadata": {},
   "outputs": [],
   "source": [
    "submission.to_csv(\"./submissions/submission_test.csv\",header=[\"category\"],index_label=\"id\")"
   ]
  },
  {
   "cell_type": "code",
   "execution_count": null,
   "metadata": {},
   "outputs": [],
   "source": [
    "yPrediction = clf.predict(X_val_vect)\n",
    "print(\"Balanced Accuracy Score: %.2f\" % balanced_accuracy_score(y_val, yPrediction))"
   ]
  },
  {
   "cell_type": "code",
   "execution_count": 26,
   "metadata": {},
   "outputs": [
    {
     "name": "stdout",
     "output_type": "stream",
     "text": [
      "Balanced Accuracy Score: 0.50\n"
     ]
    }
   ],
   "source": [
    "yPrediction = clf.predict(X_val_vect)\n",
    "print(\"Balanced Accuracy Score: %.2f\" % balanced_accuracy_score(y_val, yPrediction))"
   ]
  },
  {
   "cell_type": "code",
   "execution_count": null,
   "metadata": {},
   "outputs": [],
   "source": [
    "%time yTrainPredict = clf.predict(X_train_vect)\n",
    "%time yPrediction = clf.predict(X_test_vect)\n"
   ]
  },
  {
   "cell_type": "code",
   "execution_count": null,
   "metadata": {},
   "outputs": [],
   "source": [
    "print(\"Balanced Accuracy Score: %.2f\" % balanced_accuracy_score(y_train, yTrainPredict))\n",
    "print(\"Balanced Accuracy Score: %.2f\" % balanced_accuracy_score(y_val, yPrediction))"
   ]
  },
  {
   "cell_type": "markdown",
   "metadata": {},
   "source": [
    "## TEST!!!!"
   ]
  },
  {
   "cell_type": "code",
   "execution_count": 38,
   "metadata": {},
   "outputs": [],
   "source": [
    "def run_model_test(model):\n",
    "    test_data = pd.read_csv('../data/test_full_norm.csv',header=None,names=['title'])\n",
    "    test_data['title'] = test_data['title'].apply(lambda x: ' '.join(x.split()))\n",
    "    test_data.head(10).to_csv('rv.csv')\n",
    "    print(\"Loading model file \", model, '...')\n",
    "    if isinstance(model, dict):\n",
    "        # Here we predict combining models for each language\n",
    "        predictions = []\n",
    "        language_mapping = pd.read_csv('../data/language_mapping_test.csv',names=[\"language\"])\n",
    "        test_language = pd.concat([test_data,language_mapping['language']],axis=1)\n",
    "        model_sp = fasttext.load_model(model[\"spanish\"])\n",
    "        model_pt = fasttext.load_model(model[\"portuguese\"])\n",
    "        print(\"Running predict on test set...\")\n",
    "        for index, row in test_language.iterrows():\n",
    "            if row[\"language\"] == 'spanish':\n",
    "                category = model_sp.predict(row[\"title\"])[0][0]\n",
    "            if row[\"language\"] == 'portuguese':\n",
    "                category = model_pt.predict(row[\"title\"])[0][0]\n",
    "            predictions.append(category[9:])\n",
    "        print(\"Predict finished for model \", model)\n",
    "        return pd.Series(predictions)\n",
    "\n",
    "    else:            \n",
    "        model = fasttext.load_model(model)\n",
    "        print(\"Running predict on test set...\")\n",
    "        predictions = model.predict(test_data[\"title\"].values.tolist())\n",
    "        print(\"Predict finished for model \", model)\n",
    "        return pd.Series([x[0][9:] for x in predictions[0]])\n",
    "\n",
    "            \n",
    "def parallel_models_get_test_results(model_files, n_cores=8):\n",
    "    results = Parallel(n_jobs=n_cores)(delayed(run_model_test)(model) for name, model in model_files.items())\n",
    "    return results"
   ]
  },
  {
   "cell_type": "code",
   "execution_count": 39,
   "metadata": {},
   "outputs": [
    {
     "name": "stdout",
     "output_type": "stream",
     "text": [
      "CPU times: user 351 ms, sys: 1.56 s, total: 1.91 s\n",
      "Wall time: 5min 42s\n"
     ]
    }
   ],
   "source": [
    "models_for_predict = {\n",
    "               \"model_full_300\":\"/home/franco_camporeale/models/model_full_300.bin\",\n",
    "               \"model_full_100\":\"/home/franco_camporeale/models/model_full_100.bin\",\n",
    "               \"model_reliable_2gram\":\"/backups/models/model_reliable_2gram\",\n",
    "               \"model_reliable_3gram\":\"/backups/models/model_reliable_3gram\",\n",
    "               \"model_bilingual_3gram\": {\"spanish\":\"/backups/models/model_spanish_3gram\", \n",
    "                                    \"portuguese\":\"/backups/models/model_portuguese_3gram\"} ,\n",
    "               \"model_bilingual_2gram_100\": {\"spanish\":\"/home/franco_camporeale/models/model_spanish_100.bin\", \n",
    "                                   \"portuguese\":\"/home/franco_camporeale/models/model_portuguese100.bin\"},\n",
    "               \"model_bilingual_2gram_300\": {\"spanish\":\"/home/franco_camporeale/models/model_spanish_300.bin\", \n",
    "                                   \"portuguese\":\"/home/franco_camporeale/models/model_portuguese_300.bin\"},\n",
    "              }\n",
    "\n",
    "%time results = parallel_models_get_test_results(models_for_predict, n_cores=8)"
   ]
  },
  {
   "cell_type": "code",
   "execution_count": 41,
   "metadata": {},
   "outputs": [],
   "source": [
    "base_classifiers_results = pd.concat([x for x in results], axis=1)"
   ]
  },
  {
   "cell_type": "code",
   "execution_count": 121,
   "metadata": {},
   "outputs": [],
   "source": [
    "base_classifiers_results[\"title\"] = base_classifiers_results[0] + ' ' + base_classifiers_results[1] + ' ' + base_classifiers_results[4] + ' '+  base_classifiers_results[5] + ' '+  base_classifiers_results[6] "
   ]
  },
  {
   "cell_type": "code",
   "execution_count": 122,
   "metadata": {},
   "outputs": [
    {
     "data": {
      "text/html": [
       "<div>\n",
       "<style scoped>\n",
       "    .dataframe tbody tr th:only-of-type {\n",
       "        vertical-align: middle;\n",
       "    }\n",
       "\n",
       "    .dataframe tbody tr th {\n",
       "        vertical-align: top;\n",
       "    }\n",
       "\n",
       "    .dataframe thead th {\n",
       "        text-align: right;\n",
       "    }\n",
       "</style>\n",
       "<table border=\"1\" class=\"dataframe\">\n",
       "  <thead>\n",
       "    <tr style=\"text-align: right;\">\n",
       "      <th></th>\n",
       "      <th>0</th>\n",
       "      <th>1</th>\n",
       "      <th>2</th>\n",
       "      <th>3</th>\n",
       "      <th>4</th>\n",
       "      <th>5</th>\n",
       "      <th>6</th>\n",
       "      <th>title</th>\n",
       "    </tr>\n",
       "  </thead>\n",
       "  <tbody>\n",
       "    <tr>\n",
       "      <td>0</td>\n",
       "      <td>DIAPER_BAGS</td>\n",
       "      <td>DIAPER_BAGS</td>\n",
       "      <td>DIAPER_BAGS</td>\n",
       "      <td>DIAPER_BAGS</td>\n",
       "      <td>DIAPER_BAGS</td>\n",
       "      <td>DIAPER_BAGS</td>\n",
       "      <td>DIAPER_BAGS</td>\n",
       "      <td>DIAPER_BAGS DIAPER_BAGS DIAPER_BAGS DIAPER_BAG...</td>\n",
       "    </tr>\n",
       "    <tr>\n",
       "      <td>1</td>\n",
       "      <td>BABY_GROOMING_KITS</td>\n",
       "      <td>BABY_CHANGING_PADS</td>\n",
       "      <td>BABY_CHANGING_PADS</td>\n",
       "      <td>BABY_CHANGING_PADS</td>\n",
       "      <td>BABY_CHANGING_PADS</td>\n",
       "      <td>BABY_CHANGING_PADS</td>\n",
       "      <td>BABY_CHANGING_PADS</td>\n",
       "      <td>BABY_GROOMING_KITS BABY_CHANGING_PADS BABY_CHA...</td>\n",
       "    </tr>\n",
       "    <tr>\n",
       "      <td>2</td>\n",
       "      <td>ENGINE_COOLING_FAN_MOTORS</td>\n",
       "      <td>ENGINE_COOLING_FAN_MOTORS</td>\n",
       "      <td>ENGINE_COOLING_FAN_MOTORS</td>\n",
       "      <td>ENGINE_COOLING_FAN_MOTORS</td>\n",
       "      <td>ENGINE_COOLING_FAN_MOTORS</td>\n",
       "      <td>ENGINE_COOLING_FAN_MOTORS</td>\n",
       "      <td>ENGINE_COOLING_FAN_MOTORS</td>\n",
       "      <td>ENGINE_COOLING_FAN_MOTORS ENGINE_COOLING_FAN_M...</td>\n",
       "    </tr>\n",
       "    <tr>\n",
       "      <td>3</td>\n",
       "      <td>AUTOMOTIVE_SHOCK_ABSORBER_BUMP_STOPS</td>\n",
       "      <td>AUTOMOTIVE_SHOCK_ABSORBER_BUMP_STOPS</td>\n",
       "      <td>AUTOMOTIVE_SHOCK_ABSORBER_BUMP_STOPS</td>\n",
       "      <td>AUTOMOTIVE_SHOCK_ABSORBER_BUMP_STOPS</td>\n",
       "      <td>AUTOMOTIVE_SHOCK_ABSORBER_BUMP_STOPS</td>\n",
       "      <td>AUTOMOTIVE_SHOCK_ABSORBER_BUMP_STOPS</td>\n",
       "      <td>AUTOMOTIVE_SHOCK_ABSORBER_BUMP_STOPS</td>\n",
       "      <td>AUTOMOTIVE_SHOCK_ABSORBER_BUMP_STOPS AUTOMOTIV...</td>\n",
       "    </tr>\n",
       "    <tr>\n",
       "      <td>4</td>\n",
       "      <td>BABY_CAR_SEATS</td>\n",
       "      <td>BABY_CAR_SEATS</td>\n",
       "      <td>BABY_CAR_SEATS</td>\n",
       "      <td>BABY_CAR_SEATS</td>\n",
       "      <td>BABY_CAR_SEATS</td>\n",
       "      <td>BABY_CAR_SEATS</td>\n",
       "      <td>BABY_CAR_SEATS</td>\n",
       "      <td>BABY_CAR_SEATS BABY_CAR_SEATS BABY_CAR_SEATS B...</td>\n",
       "    </tr>\n",
       "    <tr>\n",
       "      <td>...</td>\n",
       "      <td>...</td>\n",
       "      <td>...</td>\n",
       "      <td>...</td>\n",
       "      <td>...</td>\n",
       "      <td>...</td>\n",
       "      <td>...</td>\n",
       "      <td>...</td>\n",
       "      <td>...</td>\n",
       "    </tr>\n",
       "    <tr>\n",
       "      <td>246950</td>\n",
       "      <td>VEHICLE_BRAKE_DISCS</td>\n",
       "      <td>VEHICLE_BRAKE_DISCS</td>\n",
       "      <td>VEHICLE_BRAKE_DISCS</td>\n",
       "      <td>VEHICLE_BRAKE_DISCS</td>\n",
       "      <td>VEHICLE_BRAKE_DISCS</td>\n",
       "      <td>VEHICLE_BRAKE_DISCS</td>\n",
       "      <td>VEHICLE_BRAKE_DISCS</td>\n",
       "      <td>VEHICLE_BRAKE_DISCS VEHICLE_BRAKE_DISCS VEHICL...</td>\n",
       "    </tr>\n",
       "    <tr>\n",
       "      <td>246951</td>\n",
       "      <td>WALKIE_TALKIES</td>\n",
       "      <td>WALKIE_TALKIES</td>\n",
       "      <td>WALKIE_TALKIES</td>\n",
       "      <td>WALKIE_TALKIES</td>\n",
       "      <td>WALKIE_TALKIES</td>\n",
       "      <td>WALKIE_TALKIES</td>\n",
       "      <td>WALKIE_TALKIES</td>\n",
       "      <td>WALKIE_TALKIES WALKIE_TALKIES WALKIE_TALKIES W...</td>\n",
       "    </tr>\n",
       "    <tr>\n",
       "      <td>246952</td>\n",
       "      <td>CALCULATORS</td>\n",
       "      <td>CALCULATORS</td>\n",
       "      <td>CALCULATORS</td>\n",
       "      <td>CALCULATORS</td>\n",
       "      <td>CALCULATORS</td>\n",
       "      <td>CALCULATORS</td>\n",
       "      <td>CALCULATORS</td>\n",
       "      <td>CALCULATORS CALCULATORS CALCULATORS CALCULATOR...</td>\n",
       "    </tr>\n",
       "    <tr>\n",
       "      <td>246953</td>\n",
       "      <td>DINING_TABLES</td>\n",
       "      <td>DINING_TABLES</td>\n",
       "      <td>DINING_SETS</td>\n",
       "      <td>DINING_SETS</td>\n",
       "      <td>DINING_SETS</td>\n",
       "      <td>DINING_TABLES</td>\n",
       "      <td>DINING_SETS</td>\n",
       "      <td>DINING_TABLES DINING_TABLES DINING_SETS DINING...</td>\n",
       "    </tr>\n",
       "    <tr>\n",
       "      <td>246954</td>\n",
       "      <td>WASTE_BASKETS</td>\n",
       "      <td>WASTE_BASKETS</td>\n",
       "      <td>WASTE_BASKETS</td>\n",
       "      <td>WASTE_BASKETS</td>\n",
       "      <td>WASTE_BASKETS</td>\n",
       "      <td>WASTE_BASKETS</td>\n",
       "      <td>WASTE_BASKETS</td>\n",
       "      <td>WASTE_BASKETS WASTE_BASKETS WASTE_BASKETS WAST...</td>\n",
       "    </tr>\n",
       "  </tbody>\n",
       "</table>\n",
       "<p>246955 rows × 8 columns</p>\n",
       "</div>"
      ],
      "text/plain": [
       "                                           0  \\\n",
       "0                                DIAPER_BAGS   \n",
       "1                         BABY_GROOMING_KITS   \n",
       "2                  ENGINE_COOLING_FAN_MOTORS   \n",
       "3       AUTOMOTIVE_SHOCK_ABSORBER_BUMP_STOPS   \n",
       "4                             BABY_CAR_SEATS   \n",
       "...                                      ...   \n",
       "246950                   VEHICLE_BRAKE_DISCS   \n",
       "246951                        WALKIE_TALKIES   \n",
       "246952                           CALCULATORS   \n",
       "246953                         DINING_TABLES   \n",
       "246954                         WASTE_BASKETS   \n",
       "\n",
       "                                           1  \\\n",
       "0                                DIAPER_BAGS   \n",
       "1                         BABY_CHANGING_PADS   \n",
       "2                  ENGINE_COOLING_FAN_MOTORS   \n",
       "3       AUTOMOTIVE_SHOCK_ABSORBER_BUMP_STOPS   \n",
       "4                             BABY_CAR_SEATS   \n",
       "...                                      ...   \n",
       "246950                   VEHICLE_BRAKE_DISCS   \n",
       "246951                        WALKIE_TALKIES   \n",
       "246952                           CALCULATORS   \n",
       "246953                         DINING_TABLES   \n",
       "246954                         WASTE_BASKETS   \n",
       "\n",
       "                                           2  \\\n",
       "0                                DIAPER_BAGS   \n",
       "1                         BABY_CHANGING_PADS   \n",
       "2                  ENGINE_COOLING_FAN_MOTORS   \n",
       "3       AUTOMOTIVE_SHOCK_ABSORBER_BUMP_STOPS   \n",
       "4                             BABY_CAR_SEATS   \n",
       "...                                      ...   \n",
       "246950                   VEHICLE_BRAKE_DISCS   \n",
       "246951                        WALKIE_TALKIES   \n",
       "246952                           CALCULATORS   \n",
       "246953                           DINING_SETS   \n",
       "246954                         WASTE_BASKETS   \n",
       "\n",
       "                                           3  \\\n",
       "0                                DIAPER_BAGS   \n",
       "1                         BABY_CHANGING_PADS   \n",
       "2                  ENGINE_COOLING_FAN_MOTORS   \n",
       "3       AUTOMOTIVE_SHOCK_ABSORBER_BUMP_STOPS   \n",
       "4                             BABY_CAR_SEATS   \n",
       "...                                      ...   \n",
       "246950                   VEHICLE_BRAKE_DISCS   \n",
       "246951                        WALKIE_TALKIES   \n",
       "246952                           CALCULATORS   \n",
       "246953                           DINING_SETS   \n",
       "246954                         WASTE_BASKETS   \n",
       "\n",
       "                                           4  \\\n",
       "0                                DIAPER_BAGS   \n",
       "1                         BABY_CHANGING_PADS   \n",
       "2                  ENGINE_COOLING_FAN_MOTORS   \n",
       "3       AUTOMOTIVE_SHOCK_ABSORBER_BUMP_STOPS   \n",
       "4                             BABY_CAR_SEATS   \n",
       "...                                      ...   \n",
       "246950                   VEHICLE_BRAKE_DISCS   \n",
       "246951                        WALKIE_TALKIES   \n",
       "246952                           CALCULATORS   \n",
       "246953                           DINING_SETS   \n",
       "246954                         WASTE_BASKETS   \n",
       "\n",
       "                                           5  \\\n",
       "0                                DIAPER_BAGS   \n",
       "1                         BABY_CHANGING_PADS   \n",
       "2                  ENGINE_COOLING_FAN_MOTORS   \n",
       "3       AUTOMOTIVE_SHOCK_ABSORBER_BUMP_STOPS   \n",
       "4                             BABY_CAR_SEATS   \n",
       "...                                      ...   \n",
       "246950                   VEHICLE_BRAKE_DISCS   \n",
       "246951                        WALKIE_TALKIES   \n",
       "246952                           CALCULATORS   \n",
       "246953                         DINING_TABLES   \n",
       "246954                         WASTE_BASKETS   \n",
       "\n",
       "                                           6  \\\n",
       "0                                DIAPER_BAGS   \n",
       "1                         BABY_CHANGING_PADS   \n",
       "2                  ENGINE_COOLING_FAN_MOTORS   \n",
       "3       AUTOMOTIVE_SHOCK_ABSORBER_BUMP_STOPS   \n",
       "4                             BABY_CAR_SEATS   \n",
       "...                                      ...   \n",
       "246950                   VEHICLE_BRAKE_DISCS   \n",
       "246951                        WALKIE_TALKIES   \n",
       "246952                           CALCULATORS   \n",
       "246953                           DINING_SETS   \n",
       "246954                         WASTE_BASKETS   \n",
       "\n",
       "                                                    title  \n",
       "0       DIAPER_BAGS DIAPER_BAGS DIAPER_BAGS DIAPER_BAG...  \n",
       "1       BABY_GROOMING_KITS BABY_CHANGING_PADS BABY_CHA...  \n",
       "2       ENGINE_COOLING_FAN_MOTORS ENGINE_COOLING_FAN_M...  \n",
       "3       AUTOMOTIVE_SHOCK_ABSORBER_BUMP_STOPS AUTOMOTIV...  \n",
       "4       BABY_CAR_SEATS BABY_CAR_SEATS BABY_CAR_SEATS B...  \n",
       "...                                                   ...  \n",
       "246950  VEHICLE_BRAKE_DISCS VEHICLE_BRAKE_DISCS VEHICL...  \n",
       "246951  WALKIE_TALKIES WALKIE_TALKIES WALKIE_TALKIES W...  \n",
       "246952  CALCULATORS CALCULATORS CALCULATORS CALCULATOR...  \n",
       "246953  DINING_TABLES DINING_TABLES DINING_SETS DINING...  \n",
       "246954  WASTE_BASKETS WASTE_BASKETS WASTE_BASKETS WAST...  \n",
       "\n",
       "[246955 rows x 8 columns]"
      ]
     },
     "execution_count": 122,
     "metadata": {},
     "output_type": "execute_result"
    }
   ],
   "source": [
    "base_classifiers_results"
   ]
  },
  {
   "cell_type": "code",
   "execution_count": 99,
   "metadata": {},
   "outputs": [
    {
     "name": "stderr",
     "output_type": "stream",
     "text": [
      "/home/franco_camporeale/miniconda3/envs/meli/lib/python3.7/site-packages/ipykernel_launcher.py:1: FutureWarning: The signature of `Series.to_csv` was aligned to that of `DataFrame.to_csv`, and argument 'header' will change its default value from False to True: please pass an explicit value to suppress this warning.\n",
      "  \"\"\"Entry point for launching an IPython kernel.\n"
     ]
    }
   ],
   "source": [
    "base_classifiers_results[\"title\"].to_csv(\"../data/test_predictions_for_ft.csv\")"
   ]
  },
  {
   "cell_type": "code",
   "execution_count": 126,
   "metadata": {},
   "outputs": [
    {
     "data": {
      "text/plain": [
       "array(['DIAPER_BAGS DIAPER_BAGS DIAPER_BAGS DIAPER_BAGS DIAPER_BAGS'],\n",
       "      dtype=object)"
      ]
     },
     "execution_count": 126,
     "metadata": {},
     "output_type": "execute_result"
    }
   ],
   "source": [
    "base_classifiers_results[\"title\"].head(1).values"
   ]
  },
  {
   "cell_type": "code",
   "execution_count": 125,
   "metadata": {},
   "outputs": [
    {
     "name": "stderr",
     "output_type": "stream",
     "text": [
      "\n"
     ]
    }
   ],
   "source": [
    "model = fasttext.load_model(\"../models/ensemble/stacked_ft3.bin\")"
   ]
  },
  {
   "cell_type": "code",
   "execution_count": null,
   "metadata": {},
   "outputs": [],
   "source": [
    "%time predictions = model.predict(base_classifiers_results[\"title\"].values.tolist())"
   ]
  },
  {
   "cell_type": "code",
   "execution_count": null,
   "metadata": {},
   "outputs": [],
   "source": [
    "submission = pd.Series([x[0][9:] for x in predictions[0]])"
   ]
  },
  {
   "cell_type": "code",
   "execution_count": null,
   "metadata": {},
   "outputs": [],
   "source": [
    "submission"
   ]
  },
  {
   "cell_type": "code",
   "execution_count": 104,
   "metadata": {},
   "outputs": [],
   "source": [
    "submission.to_csv(\"./submissions/submission_ensemble_11.csv\",header=[\"category\"],index_label=\"id\")"
   ]
  },
  {
   "cell_type": "markdown",
   "metadata": {},
   "source": [
    "OVERFITTING ZARPADO"
   ]
  },
  {
   "cell_type": "markdown",
   "metadata": {},
   "source": [
    "## Corrigiendo el modelo"
   ]
  },
  {
   "cell_type": "code",
   "execution_count": 117,
   "metadata": {},
   "outputs": [],
   "source": [
    "val1 = pd.read_csv(\"../data/ensemble/val_train.csv\",header=None,names=['title'])\n",
    "val2 = pd.read_csv(\"../data/ensemble/val_test.csv\",header=None,names=['title'])"
   ]
  },
  {
   "cell_type": "code",
   "execution_count": 118,
   "metadata": {},
   "outputs": [],
   "source": [
    "validation_results = pd.concat([val1,val2])"
   ]
  },
  {
   "cell_type": "code",
   "execution_count": 120,
   "metadata": {},
   "outputs": [],
   "source": [
    "validation_results.to_csv(\"../data/ensemble/val_full.csv\", index=False, header=False)"
   ]
  },
  {
   "cell_type": "code",
   "execution_count": null,
   "metadata": {},
   "outputs": [],
   "source": []
  }
 ],
 "metadata": {
  "kernelspec": {
   "display_name": "Python 3",
   "language": "python",
   "name": "python3"
  },
  "language_info": {
   "codemirror_mode": {
    "name": "ipython",
    "version": 3
   },
   "file_extension": ".py",
   "mimetype": "text/x-python",
   "name": "python",
   "nbconvert_exporter": "python",
   "pygments_lexer": "ipython3",
   "version": "3.7.4"
  }
 },
 "nbformat": 4,
 "nbformat_minor": 4
}
