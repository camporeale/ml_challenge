{
 "cells": [
  {
   "cell_type": "code",
   "execution_count": 157,
   "metadata": {},
   "outputs": [],
   "source": [
    "import pandas as pd\n",
    "from sklearn.model_selection import train_test_split\n",
    "from sklearn.tree import DecisionTreeClassifier\n",
    "from sklearn.feature_extraction.text import TfidfVectorizer\n",
    "from xgboost import XGBClassifier\n",
    "from spacy.lang.es import Spanish\n",
    "from spacy.lang.pt import Portuguese\n",
    "from sklearn.metrics import balanced_accuracy_score\n",
    "from spacy.tokenizer import Tokenizer\n",
    "from sklearn.svm import LinearSVC"
   ]
  },
  {
   "cell_type": "code",
   "execution_count": 27,
   "metadata": {},
   "outputs": [],
   "source": [
    "# Load Dataset\n",
    "data_raw = pd.read_csv('./train_sample.csv',index_col='index')"
   ]
  },
  {
   "cell_type": "markdown",
   "metadata": {},
   "source": [
    "### Basic statistics"
   ]
  },
  {
   "cell_type": "code",
   "execution_count": null,
   "metadata": {},
   "outputs": [],
   "source": [
    "data_raw.dtypes"
   ]
  },
  {
   "cell_type": "code",
   "execution_count": null,
   "metadata": {},
   "outputs": [],
   "source": [
    "data_raw.describe()"
   ]
  },
  {
   "cell_type": "code",
   "execution_count": null,
   "metadata": {},
   "outputs": [],
   "source": [
    "data_raw.sample(5)"
   ]
  },
  {
   "cell_type": "code",
   "execution_count": null,
   "metadata": {},
   "outputs": [],
   "source": [
    "data_raw.label_quality.value_counts()"
   ]
  },
  {
   "cell_type": "code",
   "execution_count": null,
   "metadata": {},
   "outputs": [],
   "source": [
    "data_raw.language.value_counts()"
   ]
  },
  {
   "cell_type": "code",
   "execution_count": null,
   "metadata": {},
   "outputs": [],
   "source": [
    "data_raw.category.value_counts()"
   ]
  },
  {
   "cell_type": "markdown",
   "metadata": {},
   "source": [
    "### Preprocessing\n",
    "\n",
    "#### Tasks:\n",
    "    1. Lowercase all words\n",
    "    2. Tokenize\n",
    "    3. Remove stop words\n",
    "    4. Remove special characters"
   ]
  },
  {
   "cell_type": "code",
   "execution_count": 51,
   "metadata": {},
   "outputs": [],
   "source": [
    "nlp_es = Spanish()\n",
    "nlp_pt = Portuguese()"
   ]
  },
  {
   "cell_type": "code",
   "execution_count": 175,
   "metadata": {},
   "outputs": [],
   "source": [
    "#data = data_raw[0:100000].copy()\n",
    "data = data_raw.copy()"
   ]
  },
  {
   "cell_type": "code",
   "execution_count": 176,
   "metadata": {},
   "outputs": [
    {
     "data": {
      "text/html": [
       "<div>\n",
       "<style scoped>\n",
       "    .dataframe tbody tr th:only-of-type {\n",
       "        vertical-align: middle;\n",
       "    }\n",
       "\n",
       "    .dataframe tbody tr th {\n",
       "        vertical-align: top;\n",
       "    }\n",
       "\n",
       "    .dataframe thead th {\n",
       "        text-align: right;\n",
       "    }\n",
       "</style>\n",
       "<table border=\"1\" class=\"dataframe\">\n",
       "  <thead>\n",
       "    <tr style=\"text-align: right;\">\n",
       "      <th></th>\n",
       "      <th>title</th>\n",
       "      <th>label_quality</th>\n",
       "      <th>language</th>\n",
       "      <th>category</th>\n",
       "    </tr>\n",
       "    <tr>\n",
       "      <th>index</th>\n",
       "      <th></th>\n",
       "      <th></th>\n",
       "      <th></th>\n",
       "      <th></th>\n",
       "    </tr>\n",
       "  </thead>\n",
       "  <tbody>\n",
       "    <tr>\n",
       "      <td>5764698</td>\n",
       "      <td>Cilindro O Bombin De Embrague De Isuzu</td>\n",
       "      <td>unreliable</td>\n",
       "      <td>spanish</td>\n",
       "      <td>CLUTCH_SLAVE_CYLINDERS</td>\n",
       "    </tr>\n",
       "    <tr>\n",
       "      <td>1894117</td>\n",
       "      <td>Paleta De Padel Souler Troyer</td>\n",
       "      <td>unreliable</td>\n",
       "      <td>spanish</td>\n",
       "      <td>PADDLE_TENNIS_RACKETS</td>\n",
       "    </tr>\n",
       "    <tr>\n",
       "      <td>7837243</td>\n",
       "      <td>Ap Out.ubiquiti Rocket Ac Prism 29</td>\n",
       "      <td>unreliable</td>\n",
       "      <td>spanish</td>\n",
       "      <td>WIRELESS_ANTENNAS</td>\n",
       "    </tr>\n",
       "    <tr>\n",
       "      <td>3198224</td>\n",
       "      <td>Touca De Nylon Descartável Talge Preta  Pct Co...</td>\n",
       "      <td>unreliable</td>\n",
       "      <td>portuguese</td>\n",
       "      <td>HAIRDRESSING_CAPS</td>\n",
       "    </tr>\n",
       "    <tr>\n",
       "      <td>15357805</td>\n",
       "      <td>Microondas Gourmet</td>\n",
       "      <td>unreliable</td>\n",
       "      <td>portuguese</td>\n",
       "      <td>MICROWAVES</td>\n",
       "    </tr>\n",
       "    <tr>\n",
       "      <td>87799</td>\n",
       "      <td>Carimbo Em Borracha Litoarte Clp-024 Cantoneir...</td>\n",
       "      <td>unreliable</td>\n",
       "      <td>portuguese</td>\n",
       "      <td>RUBBER_STAMPS</td>\n",
       "    </tr>\n",
       "    <tr>\n",
       "      <td>12253466</td>\n",
       "      <td>Parafusadeira Pneumatica 1/2 Com Jogo De Soque...</td>\n",
       "      <td>unreliable</td>\n",
       "      <td>portuguese</td>\n",
       "      <td>IMPACT_WRENCHES</td>\n",
       "    </tr>\n",
       "    <tr>\n",
       "      <td>15907143</td>\n",
       "      <td>Placa T-con 6870c-0442b Panasonic/philips/toshiba</td>\n",
       "      <td>unreliable</td>\n",
       "      <td>portuguese</td>\n",
       "      <td>TV_SMPS</td>\n",
       "    </tr>\n",
       "    <tr>\n",
       "      <td>586701</td>\n",
       "      <td>Mix Sin Pasas De Uva! 80grs</td>\n",
       "      <td>unreliable</td>\n",
       "      <td>spanish</td>\n",
       "      <td>DRIED_FRUITS</td>\n",
       "    </tr>\n",
       "    <tr>\n",
       "      <td>16113309</td>\n",
       "      <td>Canillera Nike Charge 2019731-dx</td>\n",
       "      <td>unreliable</td>\n",
       "      <td>spanish</td>\n",
       "      <td>SHIN_GUARDS</td>\n",
       "    </tr>\n",
       "    <tr>\n",
       "      <td>4313477</td>\n",
       "      <td>Ivation Big Oversized Digital Led Rojo Calenda...</td>\n",
       "      <td>unreliable</td>\n",
       "      <td>spanish</td>\n",
       "      <td>TABLE_CLOCKS</td>\n",
       "    </tr>\n",
       "    <tr>\n",
       "      <td>2574364</td>\n",
       "      <td>Vendo 01 Sub Ativo Sony Impecavel - Frete Gratis</td>\n",
       "      <td>unreliable</td>\n",
       "      <td>portuguese</td>\n",
       "      <td>AUDIO_AMPLIFIERS</td>\n",
       "    </tr>\n",
       "    <tr>\n",
       "      <td>18289064</td>\n",
       "      <td>Portarollo Accesorios Para Baños Estilo Bronce...</td>\n",
       "      <td>unreliable</td>\n",
       "      <td>spanish</td>\n",
       "      <td>TOILET_PAPER_HOLDERS</td>\n",
       "    </tr>\n",
       "    <tr>\n",
       "      <td>19899455</td>\n",
       "      <td>Camiseta Nba San Antonio Spurs 20 Ginobili Tit...</td>\n",
       "      <td>unreliable</td>\n",
       "      <td>spanish</td>\n",
       "      <td>BASKETBALL_JERSEYS</td>\n",
       "    </tr>\n",
       "    <tr>\n",
       "      <td>19682165</td>\n",
       "      <td>Segurelha 1kg (satureja Montana) - Sabor Verde</td>\n",
       "      <td>unreliable</td>\n",
       "      <td>portuguese</td>\n",
       "      <td>SPICES</td>\n",
       "    </tr>\n",
       "    <tr>\n",
       "      <td>7171686</td>\n",
       "      <td>Camiseta Peñarol Titular 2018 Puma</td>\n",
       "      <td>reliable</td>\n",
       "      <td>spanish</td>\n",
       "      <td>FOOTBALL_SHIRTS</td>\n",
       "    </tr>\n",
       "    <tr>\n",
       "      <td>8862233</td>\n",
       "      <td>Paleta De Padel Vita Nuova Taquion Nueva / Env...</td>\n",
       "      <td>unreliable</td>\n",
       "      <td>spanish</td>\n",
       "      <td>PADDLE_TENNIS_RACKETS</td>\n",
       "    </tr>\n",
       "    <tr>\n",
       "      <td>65810</td>\n",
       "      <td>Pegatina De Vinilo Con Diseño De Flores Para A...</td>\n",
       "      <td>unreliable</td>\n",
       "      <td>spanish</td>\n",
       "      <td>NOTEBOOK_CASES</td>\n",
       "    </tr>\n",
       "    <tr>\n",
       "      <td>11181431</td>\n",
       "      <td>Gerador De Energia Abb Colonial Gef 17,6kwp Tr...</td>\n",
       "      <td>unreliable</td>\n",
       "      <td>portuguese</td>\n",
       "      <td>PORTABLE_GENERATORS</td>\n",
       "    </tr>\n",
       "    <tr>\n",
       "      <td>11225512</td>\n",
       "      <td>Patch Medevac 1st Cavalry - Primeira Cavalaria...</td>\n",
       "      <td>unreliable</td>\n",
       "      <td>portuguese</td>\n",
       "      <td>CLOTHING_PATCHES</td>\n",
       "    </tr>\n",
       "  </tbody>\n",
       "</table>\n",
       "</div>"
      ],
      "text/plain": [
       "                                                      title label_quality  \\\n",
       "index                                                                       \n",
       "5764698              Cilindro O Bombin De Embrague De Isuzu    unreliable   \n",
       "1894117                      Paleta De Padel Souler Troyer     unreliable   \n",
       "7837243                  Ap Out.ubiquiti Rocket Ac Prism 29    unreliable   \n",
       "3198224   Touca De Nylon Descartável Talge Preta  Pct Co...    unreliable   \n",
       "15357805                                 Microondas Gourmet    unreliable   \n",
       "87799     Carimbo Em Borracha Litoarte Clp-024 Cantoneir...    unreliable   \n",
       "12253466  Parafusadeira Pneumatica 1/2 Com Jogo De Soque...    unreliable   \n",
       "15907143  Placa T-con 6870c-0442b Panasonic/philips/toshiba    unreliable   \n",
       "586701                          Mix Sin Pasas De Uva! 80grs    unreliable   \n",
       "16113309                   Canillera Nike Charge 2019731-dx    unreliable   \n",
       "4313477   Ivation Big Oversized Digital Led Rojo Calenda...    unreliable   \n",
       "2574364    Vendo 01 Sub Ativo Sony Impecavel - Frete Gratis    unreliable   \n",
       "18289064  Portarollo Accesorios Para Baños Estilo Bronce...    unreliable   \n",
       "19899455  Camiseta Nba San Antonio Spurs 20 Ginobili Tit...    unreliable   \n",
       "19682165     Segurelha 1kg (satureja Montana) - Sabor Verde    unreliable   \n",
       "7171686                  Camiseta Peñarol Titular 2018 Puma      reliable   \n",
       "8862233   Paleta De Padel Vita Nuova Taquion Nueva / Env...    unreliable   \n",
       "65810     Pegatina De Vinilo Con Diseño De Flores Para A...    unreliable   \n",
       "11181431  Gerador De Energia Abb Colonial Gef 17,6kwp Tr...    unreliable   \n",
       "11225512  Patch Medevac 1st Cavalry - Primeira Cavalaria...    unreliable   \n",
       "\n",
       "            language                category  \n",
       "index                                         \n",
       "5764698      spanish  CLUTCH_SLAVE_CYLINDERS  \n",
       "1894117      spanish   PADDLE_TENNIS_RACKETS  \n",
       "7837243      spanish       WIRELESS_ANTENNAS  \n",
       "3198224   portuguese       HAIRDRESSING_CAPS  \n",
       "15357805  portuguese              MICROWAVES  \n",
       "87799     portuguese           RUBBER_STAMPS  \n",
       "12253466  portuguese         IMPACT_WRENCHES  \n",
       "15907143  portuguese                 TV_SMPS  \n",
       "586701       spanish            DRIED_FRUITS  \n",
       "16113309     spanish             SHIN_GUARDS  \n",
       "4313477      spanish            TABLE_CLOCKS  \n",
       "2574364   portuguese        AUDIO_AMPLIFIERS  \n",
       "18289064     spanish    TOILET_PAPER_HOLDERS  \n",
       "19899455     spanish      BASKETBALL_JERSEYS  \n",
       "19682165  portuguese                  SPICES  \n",
       "7171686      spanish         FOOTBALL_SHIRTS  \n",
       "8862233      spanish   PADDLE_TENNIS_RACKETS  \n",
       "65810        spanish          NOTEBOOK_CASES  \n",
       "11181431  portuguese     PORTABLE_GENERATORS  \n",
       "11225512  portuguese        CLOTHING_PATCHES  "
      ]
     },
     "execution_count": 176,
     "metadata": {},
     "output_type": "execute_result"
    }
   ],
   "source": [
    "data.sample(20)"
   ]
  },
  {
   "cell_type": "code",
   "execution_count": 177,
   "metadata": {},
   "outputs": [],
   "source": [
    "# 1. Lowercase\n",
    "data['title'] = data['title'].str.lower()"
   ]
  },
  {
   "cell_type": "code",
   "execution_count": 167,
   "metadata": {},
   "outputs": [],
   "source": [
    "# 2. Tokenize\n",
    "# 3. Remove Stopwords & Punctuation"
   ]
  },
  {
   "cell_type": "code",
   "execution_count": 178,
   "metadata": {},
   "outputs": [],
   "source": [
    "mask_spanish    = data[\"language\"] == 'spanish'\n",
    "mask_portuguese = data[\"language\"] == 'portuguese'"
   ]
  },
  {
   "cell_type": "code",
   "execution_count": 179,
   "metadata": {},
   "outputs": [],
   "source": [
    "data.loc[mask_spanish, \"tokens\"] = data[\"title\"].apply(lambda x: ' '.join([tok.text for tok in nlp_es.tokenizer(x) if not (tok.is_punct or tok.is_stop)]))\n",
    "data.loc[mask_portuguese, \"tokens\"] = data[\"title\"].apply(lambda x: ' '.join([tok.text for tok in nlp_pt.tokenizer(x) if not (tok.is_punct or tok.is_stop)]))"
   ]
  },
  {
   "cell_type": "code",
   "execution_count": 180,
   "metadata": {},
   "outputs": [],
   "source": [
    "X_train, X_test, y_train, y_test = train_test_split(data[\"tokens\"], data[\"category\"], test_size=0.10, random_state=42)"
   ]
  },
  {
   "cell_type": "code",
   "execution_count": 181,
   "metadata": {},
   "outputs": [
    {
     "data": {
      "text/plain": [
       "(900000, 321011)"
      ]
     },
     "execution_count": 181,
     "metadata": {},
     "output_type": "execute_result"
    }
   ],
   "source": [
    "tfidf_vect = TfidfVectorizer()\n",
    "X_train_tfidf = tfidf_vect.fit_transform(X_train)\n",
    "X_test_tfidf = tfidf_vect.transform(X_test)\n",
    "X_train_tfidf.shape"
   ]
  },
  {
   "cell_type": "markdown",
   "metadata": {},
   "source": [
    "### Classifiers"
   ]
  },
  {
   "cell_type": "code",
   "execution_count": 154,
   "metadata": {},
   "outputs": [
    {
     "data": {
      "text/plain": [
       "DecisionTreeClassifier(class_weight=None, criterion='gini', max_depth=None,\n",
       "                       max_features=None, max_leaf_nodes=None,\n",
       "                       min_impurity_decrease=0.0, min_impurity_split=None,\n",
       "                       min_samples_leaf=1, min_samples_split=2,\n",
       "                       min_weight_fraction_leaf=0.0, presort=False,\n",
       "                       random_state=None, splitter='best')"
      ]
     },
     "execution_count": 154,
     "metadata": {},
     "output_type": "execute_result"
    }
   ],
   "source": [
    "clf = DecisionTreeClassifier()\n",
    "clf.fit(X_train_tfidf, y_train)"
   ]
  },
  {
   "cell_type": "code",
   "execution_count": 155,
   "metadata": {},
   "outputs": [
    {
     "name": "stdout",
     "output_type": "stream",
     "text": [
      "Balanced Accuracy Score: 1.00\n",
      "Balanced Accuracy Score: 0.32\n"
     ]
    },
    {
     "name": "stderr",
     "output_type": "stream",
     "text": [
      "/home/camporeale/miniconda3/envs/mlcomp/lib/python3.7/site-packages/sklearn/metrics/classification.py:1745: UserWarning: y_pred contains classes not in y_true\n",
      "  warnings.warn('y_pred contains classes not in y_true')\n"
     ]
    }
   ],
   "source": [
    "yTrainPredict = clf.predict(X_train_tfidf)\n",
    "yPrediction = clf.predict(X_test_tfidf)\n",
    "print(\"Balanced Accuracy Score: %.2f\" % balanced_accuracy_score(y_train, yTrainPredict))\n",
    "print(\"Balanced Accuracy Score: %.2f\" % balanced_accuracy_score(y_test, yPrediction))"
   ]
  },
  {
   "cell_type": "code",
   "execution_count": 159,
   "metadata": {},
   "outputs": [],
   "source": [
    "clf_svm = LinearSVC()"
   ]
  },
  {
   "cell_type": "code",
   "execution_count": null,
   "metadata": {},
   "outputs": [],
   "source": [
    "clf_svm.fit(X_train_tfidf, y_train)"
   ]
  },
  {
   "cell_type": "code",
   "execution_count": null,
   "metadata": {},
   "outputs": [],
   "source": [
    "#TrainPredict = clf_svm.predict(X_train_tfidf)\n",
    "yPrediction = clf_svm.predict(X_test_tfidf)\n",
    "#print(\"Balanced Accuracy Score: %.2f\" % balanced_accuracy_score(y_train, yTrainPredict))\n",
    "print(\"Balanced Accuracy Score: %.2f\" % balanced_accuracy_score(y_test, yPrediction))"
   ]
  },
  {
   "cell_type": "code",
   "execution_count": null,
   "metadata": {},
   "outputs": [],
   "source": []
  }
 ],
 "metadata": {
  "kernelspec": {
   "display_name": "Python 3",
   "language": "python",
   "name": "python3"
  },
  "language_info": {
   "codemirror_mode": {
    "name": "ipython",
    "version": 3
   },
   "file_extension": ".py",
   "mimetype": "text/x-python",
   "name": "python",
   "nbconvert_exporter": "python",
   "pygments_lexer": "ipython3",
   "version": "3.7.4"
  }
 },
 "nbformat": 4,
 "nbformat_minor": 4
}
