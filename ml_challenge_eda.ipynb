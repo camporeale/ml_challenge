{
 "cells": [
  {
   "cell_type": "code",
   "execution_count": 1,
   "metadata": {},
   "outputs": [],
   "source": [
    "import pandas as pd\n",
    "from sklearn.model_selection import train_test_split\n",
    "from sklearn.tree import DecisionTreeClassifier\n",
    "from sklearn.feature_extraction.text import TfidfVectorizer\n",
    "from xgboost import XGBClassifier\n",
    "from spacy.lang.es import Spanish"
   ]
  },
  {
   "cell_type": "code",
   "execution_count": 2,
   "metadata": {},
   "outputs": [],
   "source": [
    "# Load Dataset\n",
    "data_raw = pd.read_csv('./train_sample.csv',index_col='index')"
   ]
  },
  {
   "cell_type": "markdown",
   "metadata": {},
   "source": [
    "### Basic statistics"
   ]
  },
  {
   "cell_type": "code",
   "execution_count": 4,
   "metadata": {},
   "outputs": [
    {
     "data": {
      "text/plain": [
       "title            object\n",
       "label_quality    object\n",
       "language         object\n",
       "category         object\n",
       "dtype: object"
      ]
     },
     "execution_count": 4,
     "metadata": {},
     "output_type": "execute_result"
    }
   ],
   "source": [
    "data_raw.dtypes"
   ]
  },
  {
   "cell_type": "code",
   "execution_count": 6,
   "metadata": {},
   "outputs": [
    {
     "data": {
      "text/html": [
       "<div>\n",
       "<style scoped>\n",
       "    .dataframe tbody tr th:only-of-type {\n",
       "        vertical-align: middle;\n",
       "    }\n",
       "\n",
       "    .dataframe tbody tr th {\n",
       "        vertical-align: top;\n",
       "    }\n",
       "\n",
       "    .dataframe thead th {\n",
       "        text-align: right;\n",
       "    }\n",
       "</style>\n",
       "<table border=\"1\" class=\"dataframe\">\n",
       "  <thead>\n",
       "    <tr style=\"text-align: right;\">\n",
       "      <th></th>\n",
       "      <th>title</th>\n",
       "      <th>label_quality</th>\n",
       "      <th>language</th>\n",
       "      <th>category</th>\n",
       "    </tr>\n",
       "  </thead>\n",
       "  <tbody>\n",
       "    <tr>\n",
       "      <td>count</td>\n",
       "      <td>1000000</td>\n",
       "      <td>1000000</td>\n",
       "      <td>1000000</td>\n",
       "      <td>1000000</td>\n",
       "    </tr>\n",
       "    <tr>\n",
       "      <td>unique</td>\n",
       "      <td>999975</td>\n",
       "      <td>2</td>\n",
       "      <td>2</td>\n",
       "      <td>1588</td>\n",
       "    </tr>\n",
       "    <tr>\n",
       "      <td>top</td>\n",
       "      <td>Bateria Motorola</td>\n",
       "      <td>unreliable</td>\n",
       "      <td>portuguese</td>\n",
       "      <td>PANTS</td>\n",
       "    </tr>\n",
       "    <tr>\n",
       "      <td>freq</td>\n",
       "      <td>2</td>\n",
       "      <td>940691</td>\n",
       "      <td>500258</td>\n",
       "      <td>1867</td>\n",
       "    </tr>\n",
       "  </tbody>\n",
       "</table>\n",
       "</div>"
      ],
      "text/plain": [
       "                   title label_quality    language category\n",
       "count            1000000       1000000     1000000  1000000\n",
       "unique            999975             2           2     1588\n",
       "top     Bateria Motorola    unreliable  portuguese    PANTS\n",
       "freq                   2        940691      500258     1867"
      ]
     },
     "execution_count": 6,
     "metadata": {},
     "output_type": "execute_result"
    }
   ],
   "source": [
    "data_raw.describe()"
   ]
  },
  {
   "cell_type": "code",
   "execution_count": 7,
   "metadata": {},
   "outputs": [
    {
     "data": {
      "text/html": [
       "<div>\n",
       "<style scoped>\n",
       "    .dataframe tbody tr th:only-of-type {\n",
       "        vertical-align: middle;\n",
       "    }\n",
       "\n",
       "    .dataframe tbody tr th {\n",
       "        vertical-align: top;\n",
       "    }\n",
       "\n",
       "    .dataframe thead th {\n",
       "        text-align: right;\n",
       "    }\n",
       "</style>\n",
       "<table border=\"1\" class=\"dataframe\">\n",
       "  <thead>\n",
       "    <tr style=\"text-align: right;\">\n",
       "      <th></th>\n",
       "      <th>title</th>\n",
       "      <th>label_quality</th>\n",
       "      <th>language</th>\n",
       "      <th>category</th>\n",
       "    </tr>\n",
       "    <tr>\n",
       "      <th>index</th>\n",
       "      <th></th>\n",
       "      <th></th>\n",
       "      <th></th>\n",
       "      <th></th>\n",
       "    </tr>\n",
       "  </thead>\n",
       "  <tbody>\n",
       "    <tr>\n",
       "      <td>8084741</td>\n",
       "      <td>Sillón Cama De 1 Plaza Con Colchón</td>\n",
       "      <td>unreliable</td>\n",
       "      <td>spanish</td>\n",
       "      <td>HEADBOARDS</td>\n",
       "    </tr>\n",
       "    <tr>\n",
       "      <td>878981</td>\n",
       "      <td>Lifeproof Fre Series Caso Impermeable Para Sam...</td>\n",
       "      <td>unreliable</td>\n",
       "      <td>spanish</td>\n",
       "      <td>CELLPHONE_TABLET_AND_GPS_SCREEN_PROTECTORS</td>\n",
       "    </tr>\n",
       "    <tr>\n",
       "      <td>12875359</td>\n",
       "      <td>Servilletero Portaservileta De Madera Estilo V...</td>\n",
       "      <td>unreliable</td>\n",
       "      <td>spanish</td>\n",
       "      <td>NAPKIN_HOLDERS</td>\n",
       "    </tr>\n",
       "    <tr>\n",
       "      <td>4289716</td>\n",
       "      <td>Kit Xenon Moto Yamaha Ybr 125 Lampada 8000k H4...</td>\n",
       "      <td>unreliable</td>\n",
       "      <td>portuguese</td>\n",
       "      <td>XENON_KITS</td>\n",
       "    </tr>\n",
       "    <tr>\n",
       "      <td>3382783</td>\n",
       "      <td>Modem Arescom 800 Con Salida Usb Y Red</td>\n",
       "      <td>unreliable</td>\n",
       "      <td>spanish</td>\n",
       "      <td>MODEMS</td>\n",
       "    </tr>\n",
       "  </tbody>\n",
       "</table>\n",
       "</div>"
      ],
      "text/plain": [
       "                                                      title label_quality  \\\n",
       "index                                                                       \n",
       "8084741                  Sillón Cama De 1 Plaza Con Colchón    unreliable   \n",
       "878981    Lifeproof Fre Series Caso Impermeable Para Sam...    unreliable   \n",
       "12875359  Servilletero Portaservileta De Madera Estilo V...    unreliable   \n",
       "4289716   Kit Xenon Moto Yamaha Ybr 125 Lampada 8000k H4...    unreliable   \n",
       "3382783              Modem Arescom 800 Con Salida Usb Y Red    unreliable   \n",
       "\n",
       "            language                                    category  \n",
       "index                                                             \n",
       "8084741      spanish                                  HEADBOARDS  \n",
       "878981       spanish  CELLPHONE_TABLET_AND_GPS_SCREEN_PROTECTORS  \n",
       "12875359     spanish                              NAPKIN_HOLDERS  \n",
       "4289716   portuguese                                  XENON_KITS  \n",
       "3382783      spanish                                      MODEMS  "
      ]
     },
     "execution_count": 7,
     "metadata": {},
     "output_type": "execute_result"
    }
   ],
   "source": [
    "data_raw.sample(5)"
   ]
  },
  {
   "cell_type": "code",
   "execution_count": 85,
   "metadata": {},
   "outputs": [
    {
     "data": {
      "text/plain": [
       "unreliable    940691\n",
       "reliable       59309\n",
       "Name: label_quality, dtype: int64"
      ]
     },
     "execution_count": 85,
     "metadata": {},
     "output_type": "execute_result"
    }
   ],
   "source": [
    "data_raw.label_quality.value_counts()"
   ]
  },
  {
   "cell_type": "code",
   "execution_count": 87,
   "metadata": {},
   "outputs": [
    {
     "data": {
      "text/plain": [
       "portuguese    500258\n",
       "spanish       499742\n",
       "Name: language, dtype: int64"
      ]
     },
     "execution_count": 87,
     "metadata": {},
     "output_type": "execute_result"
    }
   ],
   "source": [
    "data_raw.language.value_counts()"
   ]
  },
  {
   "cell_type": "code",
   "execution_count": 10,
   "metadata": {},
   "outputs": [
    {
     "data": {
      "text/plain": [
       "PANTS                                   1867\n",
       "COFFEE_MAKERS                           1782\n",
       "MUSICAL_KEYBOARDS                       1679\n",
       "BABY_CAR_SEATS                          1671\n",
       "MATTRESSES                              1660\n",
       "                                        ... \n",
       "FORCE_GAUGES                               9\n",
       "HONEY_EXTRACTORS                           8\n",
       "COLD_FOOD_AND_DRINK_VENDING_MACHINES       7\n",
       "COMMERCIAL_POPCORN_MACHINES                7\n",
       "HAMBURGER_FORMERS                          3\n",
       "Name: category, Length: 1588, dtype: int64"
      ]
     },
     "execution_count": 10,
     "metadata": {},
     "output_type": "execute_result"
    }
   ],
   "source": [
    "data_raw.category.value_counts()"
   ]
  },
  {
   "cell_type": "markdown",
   "metadata": {},
   "source": [
    "### Preprocessing"
   ]
  },
  {
   "cell_type": "code",
   "execution_count": 5,
   "metadata": {},
   "outputs": [],
   "source": [
    "X_train, X_test, y_train, y_test = train_test_split(data_raw[\"title\"], data_raw[\"category\"], test_size=0.10, random_state=42)"
   ]
  },
  {
   "cell_type": "code",
   "execution_count": 6,
   "metadata": {},
   "outputs": [
    {
     "data": {
      "text/plain": [
       "(900000, 325956)"
      ]
     },
     "execution_count": 6,
     "metadata": {},
     "output_type": "execute_result"
    }
   ],
   "source": [
    "tfidf_vect = TfidfVectorizer()\n",
    "X_train_tfidf = tfidf_vect.fit_transform(X_train)\n",
    "X_test_tfidf = tfidf_vect.transform(X_test)\n",
    "X_train_tfidf.shape"
   ]
  },
  {
   "cell_type": "code",
   "execution_count": 17,
   "metadata": {},
   "outputs": [],
   "source": []
  },
  {
   "cell_type": "markdown",
   "metadata": {},
   "source": [
    "### Classifiers"
   ]
  },
  {
   "cell_type": "code",
   "execution_count": null,
   "metadata": {},
   "outputs": [],
   "source": [
    "clf = DecisionTreeClassifier()\n",
    "clf.fit(X_train_tfidf, y_train)"
   ]
  },
  {
   "cell_type": "code",
   "execution_count": null,
   "metadata": {},
   "outputs": [],
   "source": []
  },
  {
   "cell_type": "code",
   "execution_count": 18,
   "metadata": {},
   "outputs": [],
   "source": [
    "#SPACY\n",
    "nlp = Spanish()"
   ]
  },
  {
   "cell_type": "code",
   "execution_count": 19,
   "metadata": {},
   "outputs": [
    {
     "data": {
      "text/plain": [
       "<spacy.lang.es.Spanish at 0x7fa35c08bc90>"
      ]
     },
     "execution_count": 19,
     "metadata": {},
     "output_type": "execute_result"
    }
   ],
   "source": [
    "nlp"
   ]
  },
  {
   "cell_type": "code",
   "execution_count": 93,
   "metadata": {},
   "outputs": [],
   "source": [
    "test = data_raw[:50]['title'].values"
   ]
  },
  {
   "cell_type": "code",
   "execution_count": 94,
   "metadata": {},
   "outputs": [
    {
     "data": {
      "text/plain": [
       "array(['Chaleco De Pesca Talle M C/manchas Ver Fotos. Cordoba',\n",
       "       'Mocos Nasal Seguro Higinico Limpiador Deaspirador',\n",
       "       'Mascara De Pestañas Extra Volumen 3 En 1 Ricosti',\n",
       "       'Batidora De Mano Oster 2532 6 Velocidades 250 W Garantia ',\n",
       "       'Kirkland Signature Pañales Supremo Tamaño 5, 150 Cantidad',\n",
       "       'Balança Digital Upx 15 Kg',\n",
       "       'Nexgard Pastilla Para Pulgas Y Garrapatas Hasta 25kg.  ',\n",
       "       'Vara De Pesca Reel Combo Telesc\\x9d\\x9dpica P\\x9d\\x9dlo De Pesca De Fibr',\n",
       "       'Serpentina Condensador Carrier 18000 Btuh',\n",
       "       'Kit 10 Carimbos Premium 60 (só Carcaça)',\n",
       "       'Braco Curvo Suspensao Traseira Esquerda Bmw 550 2011 **5626',\n",
       "       'Pantalla Gigante Con Trípode  Loch 100 Pulg  2.00 X 1.50',\n",
       "       'Colete Salva Vidas Xfloat Infantil Monster',\n",
       "       'Navegador Gps Automotivo Mercedes C250 Tela 4.3 Touch Voz Tv',\n",
       "       'Mochila Hidratante Camelback Incluye Bolsa De Agua 2.5 L ',\n",
       "       'Cámara De Fotos Powershot Canon Sx40 En Excelente Estado',\n",
       "       'Palmera Imperial, Real Cubana, Roistonea 2m - Granpalmera',\n",
       "       'Parche Termoadhesivo Escudo De Seleccion Dominica Varios',\n",
       "       'Kit Roçadeira Lateral 2t 52cc 2,6hp À Gasolina + Protetor Fa',\n",
       "       'Dragon Ball Super Son Goku Ss Blood Saiyan Banpresto Dbztoys',\n",
       "       'Tv Lg 32 Lj500b Com Conversor Digital + Nota Fiscal',\n",
       "       'Land Rover A Pilha', 'Lanterna Tática Militar',\n",
       "       'Caja De 5ta Fiat 147 96',\n",
       "       'Bolso Matero Bangart Termo Acero Mate Magico Pettish Online',\n",
       "       'Motobomba Riego Diesel Goteo Desagote Heladas Antonik Deutz',\n",
       "       'Filtro De Privacidad 3m Pf21.3 - Filtro De Privacidad De Pan',\n",
       "       'Mini Secador De Viagem Cadence',\n",
       "       'Kit Verde Mar: Cuba De Vidro 42 Cm C/ Avarias + Válvula',\n",
       "       'Dixon Pedal De Bombo Doble Pp9290d Drumsonline',\n",
       "       'Ephome 2 Piezas De Silicona Multiusos De Hornear Antiadheren',\n",
       "       'Estetoscópio Rappaport , Disponivel Nas Cores Verde E Preto',\n",
       "       'Grilla Parrilla Paragolpe Citroen C4 - Con Agujero Faro Aux',\n",
       "       'Pedal Crank Brothers Egg Beater 01',\n",
       "       'Piscina Inflável Redonda 1900 Litros Splash Fun Mor 1900l',\n",
       "       'Optica Delantera Honda Xr 125 Original',\n",
       "       'Membrana Autoadhesiva Celer 10 Cm X 10 Mts',\n",
       "       'Almanaque Disney 1 - 181 / 200 - 20 Exempl. - Preço Especial',\n",
       "       'Tv Led Philco 24´ Nuevo',\n",
       "       'Acordeón Hohner 96b Bravo Iii Negr Cuotas',\n",
       "       'Rascador Para Gato Leia X10 Unidades ',\n",
       "       'Painel Lona Frozen 02 2,00x1,50m',\n",
       "       'Traba Cinturón De Seguridad Peugeot 405 Original ',\n",
       "       'Dvd Positron Sp4330bt Tela 3 /bluetooth/usb/sd',\n",
       "       'Recamier Divã Decor Rafaela Vermelho Suede Mega Promoção',\n",
       "       'Caixa De Cambio Eixo Primario E Secundario Traxx Mod. Jl 110',\n",
       "       'Lote C/ 4 Pente De A O Dr Pentinho',\n",
       "       'Comutador Ignicao Vectra06 Astra 98 90389377 Un40690 Ff',\n",
       "       'Embalagem Plástica Lacre Sedex Correio Saco 26x36 150 Un',\n",
       "       'Inversora Mig 250 Amperes - 220v Mono (4 Roldanas) - Hylong'],\n",
       "      dtype=object)"
      ]
     },
     "execution_count": 94,
     "metadata": {},
     "output_type": "execute_result"
    }
   ],
   "source": [
    "test"
   ]
  },
  {
   "cell_type": "code",
   "execution_count": 67,
   "metadata": {},
   "outputs": [
    {
     "name": "stdout",
     "output_type": "stream",
     "text": [
      "['Chaleco', 'De', 'Pesca', 'Talle', 'M', 'C', '/', 'manchas', 'Ver', 'Fotos', '.', 'Cordoba']\n"
     ]
    }
   ],
   "source": [
    "my_doc = nlp(test)\n",
    "\n",
    "# Create list of word tokens\n",
    "token_list = []\n",
    "\n",
    "for token in my_doc:\n",
    "    token_list.append(token.text)\n",
    "print(token_list)"
   ]
  },
  {
   "cell_type": "code",
   "execution_count": 68,
   "metadata": {},
   "outputs": [
    {
     "ename": "ValueError",
     "evalue": "[E029] noun_chunks requires the dependency parse, which requires a statistical model to be installed and loaded. For more info, see the documentation:\nhttps://spacy.io/usage/models",
     "output_type": "error",
     "traceback": [
      "\u001b[0;31m---------------------------------------------------------------------------\u001b[0m",
      "\u001b[0;31mValueError\u001b[0m                                Traceback (most recent call last)",
      "\u001b[0;32m<ipython-input-68-aeb8f01d1d10>\u001b[0m in \u001b[0;36m<module>\u001b[0;34m\u001b[0m\n\u001b[0;32m----> 1\u001b[0;31m \u001b[0;32mfor\u001b[0m \u001b[0mchunk\u001b[0m \u001b[0;32min\u001b[0m \u001b[0mmy_doc\u001b[0m\u001b[0;34m.\u001b[0m\u001b[0mnoun_chunks\u001b[0m\u001b[0;34m:\u001b[0m\u001b[0;34m\u001b[0m\u001b[0;34m\u001b[0m\u001b[0m\n\u001b[0m\u001b[1;32m      2\u001b[0m    print(chunk.text, chunk.root.text, chunk.root.dep_,\n\u001b[1;32m      3\u001b[0m           chunk.root.head.text)\n",
      "\u001b[0;32mdoc.pyx\u001b[0m in \u001b[0;36mnoun_chunks\u001b[0;34m()\u001b[0m\n",
      "\u001b[0;31mValueError\u001b[0m: [E029] noun_chunks requires the dependency parse, which requires a statistical model to be installed and loaded. For more info, see the documentation:\nhttps://spacy.io/usage/models"
     ]
    }
   ],
   "source": []
  },
  {
   "cell_type": "code",
   "execution_count": null,
   "metadata": {},
   "outputs": [],
   "source": []
  }
 ],
 "metadata": {
  "kernelspec": {
   "display_name": "Python 3",
   "language": "python",
   "name": "python3"
  },
  "language_info": {
   "codemirror_mode": {
    "name": "ipython",
    "version": 3
   },
   "file_extension": ".py",
   "mimetype": "text/x-python",
   "name": "python",
   "nbconvert_exporter": "python",
   "pygments_lexer": "ipython3",
   "version": "3.7.4"
  }
 },
 "nbformat": 4,
 "nbformat_minor": 4
}
